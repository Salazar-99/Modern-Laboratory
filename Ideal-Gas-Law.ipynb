{
 "cells": [
  {
   "cell_type": "code",
   "execution_count": 400,
   "metadata": {},
   "outputs": [],
   "source": [
    "import os\n",
    "import numpy as np\n",
    "import matplotlib.pyplot as plt\n",
    "from scipy import optimize"
   ]
  },
  {
   "cell_type": "code",
   "execution_count": 401,
   "metadata": {},
   "outputs": [],
   "source": [
    "#Function for loading data\n",
    "def load_data(molecule, molecule_data, process):\n",
    "    for i in range(1,4): #Each set of data has three runs \n",
    "        temp_string_1 = str(molecule) + \"_\" + str(process) + \"_\" + str(i)\n",
    "        temp_string_2 = str(molecule) + \"-\" + str(process)\n",
    "        temp_string_3 = str(process) + \"-Data\"\n",
    "        path = \"Ideal-Gas-Law-Data/\" + temp_string_3 + \"/\" + temp_string_2 + \"/\" + temp_string_1\n",
    "        molecule_data.append(np.loadtxt(path))\n",
    "    return molecule_data"
   ]
  },
  {
   "cell_type": "code",
   "execution_count": 402,
   "metadata": {},
   "outputs": [],
   "source": [
    "#Loading isothermal data\n",
    "argon_isothermal_data = []\n",
    "argon_isothermal_data = load_data(\"argon\", argon_isothermal_data, \"isothermal\")\n",
    "\n",
    "nitrogen_isothermal_data = []\n",
    "nitrogen_isothermal_data = load_data(\"nitrogen\", nitrogen_isothermal_data, \"isothermal\")\n",
    "\n",
    "CO2_isothermal_data = []\n",
    "CO2_isothermal_data = load_data(\"CO2\", CO2_isothermal_data, \"isothermal\")"
   ]
  },
  {
   "cell_type": "code",
   "execution_count": 403,
   "metadata": {},
   "outputs": [],
   "source": [
    "#Index assignments for readability\n",
    "time = 0\n",
    "temperature = 1\n",
    "volume = 2\n",
    "pressure = 3\n",
    "\n",
    "#Function for retreviving data features\n",
    "def get_feature(data, feature):\n",
    "    feature_list = []\n",
    "    for i in range(len(data)):\n",
    "        temp_list = data[i]\n",
    "        feature_list.append(temp_list[:,feature])\n",
    "    return feature_list"
   ]
  },
  {
   "cell_type": "code",
   "execution_count": 404,
   "metadata": {},
   "outputs": [],
   "source": [
    "#Isolating Pressure and Volume for isothermal process\n",
    "argon_isothermal_volume = get_feature(argon_isothermal_data, volume)\n",
    "argon_isothermal_pressure = get_feature(argon_isothermal_data, pressure)\n",
    "\n",
    "nitrogen_isothermal_volume = get_feature(nitrogen_isothermal_data, volume)\n",
    "nitrogen_isothermal_pressure = get_feature(nitrogen_isothermal_data, pressure)\n",
    "\n",
    "CO2_isothermal_volume = get_feature(CO2_isothermal_data, volume)\n",
    "CO2_isothermal_pressure = get_feature(CO2_isothermal_data, pressure)"
   ]
  },
  {
   "cell_type": "code",
   "execution_count": 405,
   "metadata": {},
   "outputs": [],
   "source": [
    "#Functions for calibrating data, we're only interested in these two for our experiment\n",
    "#From volts to Pa\n",
    "def calibrate_volume(data):\n",
    "    for i in range(len(data)):\n",
    "        temp_data = data[i]\n",
    "        for j in range(len(temp_data)):\n",
    "            temp_data[i] =  temp_data[i]*.1\n",
    "    return data\n",
    "\n",
    "#From volts to cubic meters\n",
    "def calibrate_pressure(data):\n",
    "    for i in range(len(data)):\n",
    "        temp_data = data[i]\n",
    "        for j in range(len(temp_data)):\n",
    "            temp_data[i] = (3.19e-5)*temp_data[i] + 8.22e-5\n",
    "    return data"
   ]
  },
  {
   "cell_type": "code",
   "execution_count": 406,
   "metadata": {},
   "outputs": [],
   "source": [
    "#Calibrating isothermal data\n",
    "argon_isothermal_volume_cal = calibrate_volume(argon_isothermal_volume)\n",
    "nitrogen_isothermal_volume_cal = calibrate_volume(nitrogen_isothermal_volume)\n",
    "CO2_isothermal_volume_cal = calibrate_volume(CO2_isothermal_volume)\n",
    "\n",
    "argon_isothermal_pressure_cal = calibrate_pressure(argon_isothermal_pressure)\n",
    "nitrogen_isothermal_pressure_cal = calibrate_pressure(nitrogen_isothermal_pressure)\n",
    "CO2_isothermal_pressure_cal = calibrate_pressure(CO2_isothermal_pressure)"
   ]
  },
  {
   "cell_type": "raw",
   "metadata": {},
   "source": [
    "I encountered an anomoly. In performing the volume calibration one value in each of the three data sets became infinity. I am unable to pin down a cause. I have enough data that throwing out the anomalous data points will not affect the regression. I will, as unelegeant as it is, remove them by hand. It seems it is \"diagonal\" elements."
   ]
  },
  {
   "cell_type": "code",
   "execution_count": 407,
   "metadata": {},
   "outputs": [],
   "source": [
    "#Replacing anomolous infinities with adjacent values\n",
    "def replace_diagonals(data):\n",
    "    for i in range(len(data)):\n",
    "        data[i][i] = data[i][i+1]\n",
    "\n",
    "replace_diagonals(argon_isothermal_volume_cal)\n",
    "replace_diagonals(nitrogen_isothermal_volume_cal)\n",
    "replace_diagonals(CO2_isothermal_volume_cal)\n",
    "\n",
    "replace_diagonals(argon_isothermal_pressure_cal)\n",
    "replace_diagonals(nitrogen_isothermal_pressure_cal)\n",
    "replace_diagonals(CO2_isothermal_pressure_cal)"
   ]
  },
  {
   "cell_type": "code",
   "execution_count": 408,
   "metadata": {},
   "outputs": [
    {
     "data": {
      "image/png": "[encoded data removed]",
      "text/plain": [
       "<Figure size 432x288 with 1 Axes>"
      ]
     },
     "metadata": {
      "needs_background": "light"
     },
     "output_type": "display_data"
    }
   ],
   "source": [
    "#Sample plot of calibrated data V vs. P\n",
    "argon_isothermal_plot = plt.plot(argon_isothermal_volume_cal[1], argon_isothermal_pressure_cal[1])\n",
    "plt.xlabel(\"Volume (m^3)\", fontweight=\"bold\")\n",
    "plt.ylabel(\"Pressure (Pa)\", fontweight=\"bold\")\n",
    "plt.grid()"
   ]
  },
  {
   "cell_type": "code",
   "execution_count": 409,
   "metadata": {},
   "outputs": [],
   "source": [
    "#Transforming data to log-log format\n",
    "def log_transform(data):\n",
    "    for i in range(len(data)):\n",
    "        data[i] = np.log(data[i])\n",
    "    return data\n",
    "\n",
    "log_argon_isothermal_volume_cal = log_transform(argon_isothermal_volume_cal)\n",
    "log_nitrogen_isothermal_volume_cal = log_transform(nitrogen_isothermal_volume_cal)\n",
    "log_CO2_isothermal_volume_cal = log_transform(CO2_isothermal_volume_cal)\n",
    "\n",
    "log_argon_isothermal_pressure_cal = log_transform(argon_isothermal_pressure_cal)\n",
    "log_nitrogen_isothermal_pressure_cal = log_transform(nitrogen_isothermal_pressure_cal)\n",
    "log_CO2_isothermal_pressure_cal = log_transform(CO2_isothermal_pressure_cal)"
   ]
  },
  {
   "cell_type": "code",
   "execution_count": 410,
   "metadata": {},
   "outputs": [
    {
     "data": {
      "image/png": "[encoded data removed]",
      "text/plain": [
       "<Figure size 432x288 with 1 Axes>"
      ]
     },
     "metadata": {
      "needs_background": "light"
     },
     "output_type": "display_data"
    }
   ],
   "source": [
    "#Sample log-log plot\n",
    "plt.plot(log_argon_isothermal_volume_cal[1], log_argon_isothermal_pressure_cal[1])\n",
    "plt.xlabel(\"Volume (m^3)\", fontweight=\"bold\")\n",
    "plt.ylabel(\"Pressure (Pa)\", fontweight=\"bold\")\n",
    "plt.grid()"
   ]
  },
  {
   "cell_type": "code",
   "execution_count": 411,
   "metadata": {},
   "outputs": [],
   "source": [
    "#Function to fit\n",
    "def f(x,a,c):\n",
    "    linear_model = a*x+c\n",
    "    return linear_model\n",
    "\n",
    "#Vectorizing fit function to allow lists as input\n",
    "vectorized_f = np.vectorize(f)\n",
    "\n",
    "#Function for fitting log-log curves given list of data sets\n",
    "def fit(x_data, y_data, fit_params):\n",
    "    if len(x_data) == len(y_data):\n",
    "        p0 = (1,0)\n",
    "        for i in range(len(x_data)):\n",
    "            fit_params.append(optimize.curve_fit(vectorized_f, x_data[i], y_data[i], p0=p0))\n",
    "        return fit_params\n",
    "    else:\n",
    "        print(\"Incompatible data sets: different lengths\")"
   ]
  },
  {
   "cell_type": "code",
   "execution_count": 412,
   "metadata": {},
   "outputs": [],
   "source": [
    "#Fitting a linear model log-log isothermal data\n",
    "#Each fit returns a list of optimal parameters and covariance matrix for each of the three data sets\n",
    "argon_isothermal_fit_params = []\n",
    "argon_isothermal_fit = fit(log_argon_isothermal_volume_cal, \n",
    "                           log_argon_isothermal_pressure_cal, \n",
    "                           argon_isothermal_fit_params)\n",
    "nitrogen_isothermal_fit_params = []\n",
    "nitrogen_isothermal_fit = fit(log_nitrogen_isothermal_volume_cal, \n",
    "                           log_nitrogen_isothermal_pressure_cal, \n",
    "                           nitrogen_isothermal_fit_params)\n",
    "CO2_isothermal_fit_params = []\n",
    "CO2_isothermal_fit = fit(log_CO2_isothermal_volume_cal, \n",
    "                           log_CO2_isothermal_pressure_cal, \n",
    "                           CO2_isothermal_fit_params)"
   ]
  },
  {
   "cell_type": "code",
   "execution_count": 426,
   "metadata": {},
   "outputs": [
    {
     "data": {
      "image/png": "[encoded data removed]",
      "text/plain": [
       "<Figure size 432x288 with 1 Axes>"
      ]
     },
     "metadata": {
      "needs_background": "light"
     },
     "output_type": "display_data"
    }
   ],
   "source": [
    "#Plotting a sample fit\n",
    "plt.plot(log_argon_isothermal_volume_cal[1], log_argon_isothermal_pressure_cal[1])\n",
    "plt.plot(log_argon_isothermal_volume_cal[0], \n",
    "         argon_isothermal_fit[1][0][0]*log_argon_isothermal_volume_cal[0]\n",
    "         +argon_isothermal_fit[1][0][1], \"-r\")\n",
    "plt.xlabel(\"Volume (m^3)\", fontweight=\"bold\")\n",
    "plt.ylabel(\"Pressure (Pa)\", fontweight=\"bold\")\n",
    "plt.grid()"
   ]
  },
  {
   "cell_type": "code",
   "execution_count": 414,
   "metadata": {},
   "outputs": [
    {
     "name": "stdout",
     "output_type": "stream",
     "text": [
      "Argon isothermal fit average slope:  -0.2804534232788523\n",
      "Nitrogen isothermal fit average slope:  -0.26325615823700105\n",
      "CO2 isothermal fit average slope:  -0.31755658666543246\n"
     ]
    }
   ],
   "source": [
    "#Average slopes of isothermal fits\n",
    "def average_slope(data):\n",
    "    slopes = []\n",
    "    for i in range(len(data)):\n",
    "        temp_list = data[i]\n",
    "        slopes.append(temp_list[0][0])\n",
    "    mean = np.mean(slopes)\n",
    "    return mean\n",
    "\n",
    "argon_isothermal_average_slope = average_slope(argon_isothermal_fit)\n",
    "nitrogen_isothermal_average_slope = average_slope(nitrogen_isothermal_fit)\n",
    "CO2_isothermal_average_slope = average_slope(CO2_isothermal_fit)\n",
    "\n",
    "print(\"Argon isothermal fit average slope: \", argon_isothermal_average_slope)\n",
    "print(\"Nitrogen isothermal fit average slope: \", nitrogen_isothermal_average_slope)\n",
    "print(\"CO2 isothermal fit average slope: \", CO2_isothermal_average_slope)"
   ]
  },
  {
   "cell_type": "code",
   "execution_count": 415,
   "metadata": {},
   "outputs": [
    {
     "name": "stdout",
     "output_type": "stream",
     "text": [
      "Argon isothermal fit average slope error:  0.0033835389403235184\n",
      "Nitrogen isothermal fit average slope error:  0.0036471187069968387\n",
      "CO2 isothermal fit average slope error:  0.002878281512202041\n"
     ]
    }
   ],
   "source": [
    "#Getting average std. error of isothermal fits as returned from scipy.optimize.curve_fit\n",
    "def error(data, sample):\n",
    "    sample_size = len(sample[0])\n",
    "    errors = []\n",
    "    for i in range(len(data)):\n",
    "        temp_list = data[i]\n",
    "        covariance_array = temp_list[1]\n",
    "        slope_error = np.sqrt(np.diag(covariance_array))\n",
    "        errors.append(slope_error)\n",
    "    average_error = np.mean(errors)\n",
    "    return average_error\n",
    "\n",
    "argon_isothermal_slope_error = error(argon_isothermal_fit, argon_isothermal_volume_cal)\n",
    "nitrogen_isothermal_slope_error = error(nitrogen_isothermal_fit, argon_isothermal_volume_cal)\n",
    "CO2_isothermal_slope_error = error(CO2_isothermal_fit, argon_isothermal_volume_cal)\n",
    "\n",
    "print(\"Argon isothermal fit average slope error: \", argon_isothermal_slope_error)\n",
    "print(\"Nitrogen isothermal fit average slope error: \", nitrogen_isothermal_slope_error)\n",
    "print(\"CO2 isothermal fit average slope error: \", CO2_isothermal_slope_error)"
   ]
  },
  {
   "cell_type": "code",
   "execution_count": 416,
   "metadata": {},
   "outputs": [],
   "source": [
    "#Loading adiabatic data\n",
    "argon_adiabatic_data = []\n",
    "argon_adiabatic_data = load_data(\"argon\", argon_adiabatic_data, \"adiabatic\")\n",
    "\n",
    "nitrogen_adiabatic_data = []\n",
    "nitrogen_adiabatic_data = load_data(\"nitrogen\", nitrogen_adiabatic_data, \"adiabatic\")\n",
    "\n",
    "CO2_adiabatic_data = []\n",
    "CO2_adiabatic_data = load_data(\"CO2\", CO2_adiabatic_data, \"adiabatic\")"
   ]
  },
  {
   "cell_type": "code",
   "execution_count": 417,
   "metadata": {},
   "outputs": [],
   "source": [
    "#Isolating Pressure and Volume for adiabatic process\n",
    "argon_adiabatic_volume = get_feature(argon_adiabatic_data, volume)\n",
    "argon_adiabatic_pressure = get_feature(argon_adiabatic_data, pressure)\n",
    "\n",
    "nitrogen_adiabatic_volume = get_feature(nitrogen_adiabatic_data, volume)\n",
    "nitrogen_adiabatic_pressure = get_feature(nitrogen_adiabatic_data, pressure)\n",
    "\n",
    "CO2_adiabatic_volume = get_feature(CO2_adiabatic_data, volume)\n",
    "CO2_adiabatic_pressure = get_feature(CO2_adiabatic_data, pressure)"
   ]
  },
  {
   "cell_type": "code",
   "execution_count": 418,
   "metadata": {},
   "outputs": [],
   "source": [
    "#Calibrating adiabatic data\n",
    "argon_adiabatic_volume_cal = calibrate_volume(argon_adiabatic_volume)\n",
    "nitrogen_adiabatic_volume_cal = calibrate_volume(nitrogen_adiabatic_volume)\n",
    "CO2_adiabatic_volume_cal = calibrate_volume(CO2_adiabatic_volume)\n",
    "\n",
    "argon_adiabatic_pressure_cal = calibrate_pressure(argon_adiabatic_pressure)\n",
    "nitrogen_adiabatic_pressure_cal = calibrate_pressure(nitrogen_adiabatic_pressure)\n",
    "CO2_adiabatic_pressure_cal = calibrate_pressure(CO2_adiabatic_pressure)"
   ]
  },
  {
   "cell_type": "code",
   "execution_count": 419,
   "metadata": {},
   "outputs": [],
   "source": [
    "#Getting rid of anomalous infinities from calibration\n",
    "replace_diagonals(argon_adiabatic_volume_cal)\n",
    "replace_diagonals(nitrogen_adiabatic_volume_cal)\n",
    "replace_diagonals(CO2_adiabatic_volume_cal)\n",
    "\n",
    "replace_diagonals(argon_adiabatic_pressure_cal)\n",
    "replace_diagonals(nitrogen_adiabatic_pressure_cal)\n",
    "replace_diagonals(CO2_adiabatic_pressure_cal)"
   ]
  },
  {
   "cell_type": "code",
   "execution_count": 420,
   "metadata": {},
   "outputs": [
    {
     "data": {
      "image/png": "[encoded data removed]",
      "text/plain": [
       "<Figure size 432x288 with 1 Axes>"
      ]
     },
     "metadata": {
      "needs_background": "light"
     },
     "output_type": "display_data"
    }
   ],
   "source": [
    "#Sample plot of raw data\n",
    "plt.plot(argon_adiabatic_volume_cal[1], argon_adiabatic_pressure_cal[1])\n",
    "plt.xlabel(\"Volume (m^3)\", fontweight=\"bold\")\n",
    "plt.ylabel(\"Pressure (Pa)\", fontweight=\"bold\")\n",
    "plt.grid()"
   ]
  },
  {
   "cell_type": "code",
   "execution_count": 421,
   "metadata": {},
   "outputs": [],
   "source": [
    "#Transforming adiabatic data to log-log format\n",
    "log_argon_adiabatic_volume_cal = log_transform(argon_adiabatic_volume_cal)\n",
    "log_nitrogen_adiabatic_volume_cal = log_transform(nitrogen_adiabatic_volume_cal)\n",
    "log_CO2_adiabatic_volume_cal = log_transform(CO2_adiabatic_volume_cal)\n",
    "\n",
    "log_argon_adiabatic_pressure_cal = log_transform(argon_adiabatic_pressure_cal)\n",
    "log_nitrogen_adiabatic_pressure_cal = log_transform(nitrogen_adiabatic_pressure_cal)\n",
    "log_CO2_adiabatic_pressure_cal = log_transform(CO2_adiabatic_pressure_cal)"
   ]
  },
  {
   "cell_type": "code",
   "execution_count": 422,
   "metadata": {},
   "outputs": [],
   "source": [
    "#Fitting linear model to log-log adiabatic data\n",
    "argon_adiabatic_fit_params = []\n",
    "argon_adiabatic_fit = fit(log_argon_adiabatic_volume_cal, \n",
    "                           log_argon_adiabatic_pressure_cal, \n",
    "                           argon_adiabatic_fit_params)\n",
    "nitrogen_adiabatic_fit_params = []\n",
    "nitrogen_adiabatic_fit = fit(log_nitrogen_adiabatic_volume_cal, \n",
    "                           log_nitrogen_adiabatic_pressure_cal, \n",
    "                           nitrogen_adiabatic_fit_params)\n",
    "CO2_adiabatic_fit_params = []\n",
    "CO2_adiabatic_fit = fit(log_CO2_adiabatic_volume_cal, \n",
    "                           log_CO2_adiabatic_pressure_cal, \n",
    "                           CO2_adiabatic_fit_params)"
   ]
  },
  {
   "cell_type": "code",
   "execution_count": 427,
   "metadata": {},
   "outputs": [
    {
     "data": {
      "image/png": "[encoded data removed]",
      "text/plain": [
       "<Figure size 432x288 with 1 Axes>"
      ]
     },
     "metadata": {
      "needs_background": "light"
     },
     "output_type": "display_data"
    }
   ],
   "source": [
    "#Plotting a sample fit\n",
    "plt.plot(log_argon_adiabatic_volume_cal[1], log_argon_adiabatic_pressure_cal[1])\n",
    "plt.plot(log_argon_adiabatic_volume_cal[0], \n",
    "         argon_adiabatic_fit[1][0][0]*log_argon_adiabatic_volume_cal[0]\n",
    "         +argon_adiabatic_fit[1][0][1], \"-r\")\n",
    "plt.xlabel(\"Volume (m^3)\", fontweight=\"bold\")\n",
    "plt.ylabel(\"Pressure (Pa)\", fontweight=\"bold\")\n",
    "plt.grid()"
   ]
  },
  {
   "cell_type": "code",
   "execution_count": 424,
   "metadata": {},
   "outputs": [
    {
     "name": "stdout",
     "output_type": "stream",
     "text": [
      "Argon adiabatic fit average slope:  -0.5242875411433704\n",
      "Nitrogen adiabatic fit average slope:  -0.5205805601250592\n",
      "CO2 adiabatic fit average slope:  -0.5155641403941239\n"
     ]
    }
   ],
   "source": [
    "#Average slopes of adiabatic fits\n",
    "argon_adiabatic_average_slope = average_slope(argon_adiabatic_fit)\n",
    "nitrogen_adiabatic_average_slope = average_slope(nitrogen_adiabatic_fit)\n",
    "CO2_adiabatic_average_slope = average_slope(CO2_adiabatic_fit)\n",
    "\n",
    "print(\"Argon adiabatic fit average slope: \", argon_adiabatic_average_slope)\n",
    "print(\"Nitrogen adiabatic fit average slope: \", nitrogen_adiabatic_average_slope)\n",
    "print(\"CO2 adiabatic fit average slope: \", CO2_adiabatic_average_slope)"
   ]
  },
  {
   "cell_type": "code",
   "execution_count": 425,
   "metadata": {},
   "outputs": [
    {
     "name": "stdout",
     "output_type": "stream",
     "text": [
      "Argon adiabatic fit average slope error:  0.00661185787160315\n",
      "Nitrogen adiabatic fit average slope error:  0.004361212927458786\n",
      "CO2 adiabatic fit average slope error:  0.0033134710779764037\n"
     ]
    }
   ],
   "source": [
    "#Getting average std. error of adiabatic fits as returned from scipy.optimize.curve_fit\n",
    "argon_adiabatic_slope_error = error(argon_adiabatic_fit, argon_adiabatic_volume_cal)\n",
    "nitrogen_adiabatic_slope_error = error(nitrogen_adiabatic_fit, nitrogen_adiabatic_volume_cal)\n",
    "CO2_adiabatic_slope_error = error(CO2_adiabatic_fit, CO2_adiabatic_volume_cal)\n",
    "\n",
    "print(\"Argon adiabatic fit average slope error: \", argon_adiabatic_slope_error)\n",
    "print(\"Nitrogen adiabatic fit average slope error: \", nitrogen_adiabatic_slope_error)\n",
    "print(\"CO2 adiabatic fit average slope error: \", CO2_adiabatic_slope_error)"
   ]
  },
  {
   "cell_type": "code",
   "execution_count": null,
   "metadata": {},
   "outputs": [],
   "source": []
  }
 ],
 "metadata": {
  "kernelspec": {
   "display_name": "Python 3",
   "language": "python",
   "name": "python3"
  },
  "language_info": {
   "codemirror_mode": {
    "name": "ipython",
    "version": 3
   },
   "file_extension": ".py",
   "mimetype": "text/x-python",
   "name": "python",
   "nbconvert_exporter": "python",
   "pygments_lexer": "ipython3",
   "version": "3.7.2"
  }
 },
 "nbformat": 4,
 "nbformat_minor": 2
}
