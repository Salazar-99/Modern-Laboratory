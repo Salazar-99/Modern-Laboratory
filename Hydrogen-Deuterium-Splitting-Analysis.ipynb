{
 "cells": [
  {
   "cell_type": "code",
   "execution_count": 3,
   "metadata": {},
   "outputs": [],
   "source": [
    "import numpy as np\n",
    "import matplotlib.pyplot as plt\n",
    "import math\n",
    "from scipy.optimize import curve_fit"
   ]
  },
  {
   "cell_type": "markdown",
   "metadata": {},
   "source": [
    "The end goal of the analysis is to determine the mass of the neutron using the Bohr model of the atom. This will require using measured values from the Hydrogen-Deuterium spectrum. In order to increase accuracy we first need to calibrate the values of our observed Hydrogen-Deuterium spectrum with a calibration curve derived from comparing our lab-observed spectrum of Neon to the accepted values. In order to find accurate values to fit a calibration curve to we perform Guassian fits around the peaks in the spectrum and take the centers of the fits as the peak wavelengths. The exraction of the peak values is below."
   ]
  },
  {
   "cell_type": "code",
   "execution_count": 4,
   "metadata": {},
   "outputs": [
    {
     "name": "stdout",
     "output_type": "stream",
     "text": [
      "(rows,columns) = (3648, 2)\n"
     ]
    },
    {
     "data": {
      "image/png": "[encoded data removed]",
      "text/plain": [
       "<Figure size 432x288 with 1 Axes>"
      ]
     },
     "metadata": {
      "needs_background": "light"
     },
     "output_type": "display_data"
    }
   ],
   "source": [
    "#Loading and plotting neon spectrum data\n",
    "neon = np.loadtxt(\"data/neon.txt\")\n",
    "print(\"(rows,columns) =\",np.shape(neon))\n",
    "neon_plot = plt.plot(neon[:,0], neon[:,1], \"-b\")\n",
    "plt.xlabel(\"Wavelength (nm)\",fontweight=\"bold\")\n",
    "plt.ylabel(\"Intensity\", fontweight=\"bold\")\n",
    "plt.title(\"Observed emission spectrum for Neon\")\n",
    "plt.grid()\n",
    "plt.show()"
   ]
  },
  {
   "cell_type": "markdown",
   "metadata": {},
   "source": [
    "In order to fit Gaussian curves to the peaks in the Neon spectrum the data needs to be spliced into sets containing only one peak. The question of how many points around each peak to take has implications in the accuracy of the calibration curve fit. For now, we will try to take an equal amount of points around each peak subject to the condition that each set must only contain one peak."
   ]
  },
  {
   "cell_type": "code",
   "execution_count": 5,
   "metadata": {},
   "outputs": [],
   "source": [
    "#Initializing data structures\n",
    "peak_indices=[]\n",
    "intensities = neon[:,1]\n",
    "wavelengths = neon[:,0]\n",
    "threshold = 100\n",
    "\n",
    "#Naive peak finder based on observations of data\n",
    "#This will give the indices corresponding to the extent of the gaussian peaks\n",
    "for i in range(len(intensities)):\n",
    "    if intensities[i] > threshold:\n",
    "        peak_indices.append(i)\n",
    "\n",
    "#Extracting singular peaks by averaging like intervals with intensity above threshold\n",
    "#This needs to be refactored into an iterative approach\n",
    "peak_1 = np.mean(np.array(peak_indices[:6]))\n",
    "peak_2 = np.mean(np.array(peak_indices[7:12]))\n",
    "peak_3 = np.mean(np.array(peak_indices[13:21]))\n",
    "peak_4 = np.mean(np.array(peak_indices[22:31]))\n",
    "peak_5 = np.mean(np.array(peak_indices[32:40]))\n",
    "peak_6 = np.mean(np.array(peak_indices[41:50]))\n",
    "peak_7 = np.mean(np.array(peak_indices[51:61]))\n",
    "peak_8 = np.mean(np.array(peak_indices[62:67]))\n",
    "\n",
    "avg_peaks = [peak_1,peak_2,peak_3,peak_4,peak_5,peak_6,peak_7,peak_8]\n",
    "\n",
    "#Splitting data around average peaks into list of lists of both wavelengths and intensities\n",
    "#Each wavelength-intensity list pair will be used to fit\n",
    "intensity_intervals = []\n",
    "wavelength_intervals = []\n",
    "for i in range(len(avg_peaks)):\n",
    "    range_bot = math.floor(avg_peaks[i])-25\n",
    "    range_top = math.floor(avg_peaks[i])+25\n",
    "    intensity_intervals.append(intensities[range_bot:range_top])\n",
    "    wavelength_intervals.append(wavelengths[range_bot:range_top])"
   ]
  },
  {
   "cell_type": "code",
   "execution_count": 6,
   "metadata": {},
   "outputs": [
    {
     "name": "stdout",
     "output_type": "stream",
     "text": [
      "[8.74505371e+02 6.32802827e+02 2.54825674e-02]\n",
      "[1.35271571e+03 6.37671837e+02 2.09523045e-02]\n",
      "[4.98800270e+03 6.39600570e+02 2.34957053e-02]\n",
      "[1.77919608e+03 6.50030178e+02 3.06620678e-02]\n",
      "[4.08800223e+02 6.52661850e+02 3.30585936e-02]\n",
      "[3.71737265e+02 6.59265354e+02 3.23064392e-02]\n"
     ]
    },
    {
     "ename": "RuntimeError",
     "evalue": "Optimal parameters not found: Number of calls to function has reached maxfev = 5000.",
     "output_type": "error",
     "traceback": [
      "\u001b[1;31m---------------------------------------------------------------------------\u001b[0m",
      "\u001b[1;31mRuntimeError\u001b[0m                              Traceback (most recent call last)",
      "\u001b[1;32m<ipython-input-6-b5ac56b24f62>\u001b[0m in \u001b[0;36m<module>\u001b[1;34m\u001b[0m\n\u001b[0;32m     15\u001b[0m     \u001b[1;31m#Defining reasonable initial parameter guesses\u001b[0m\u001b[1;33m\u001b[0m\u001b[1;33m\u001b[0m\u001b[1;33m\u001b[0m\u001b[0m\n\u001b[0;32m     16\u001b[0m     \u001b[0mp0\u001b[0m \u001b[1;33m=\u001b[0m \u001b[1;33m[\u001b[0m\u001b[0mnp\u001b[0m\u001b[1;33m.\u001b[0m\u001b[0mmax\u001b[0m\u001b[1;33m(\u001b[0m\u001b[0mtemp_intensities\u001b[0m\u001b[1;33m)\u001b[0m\u001b[1;33m,\u001b[0m \u001b[0mtemp_wavelengths\u001b[0m\u001b[1;33m[\u001b[0m\u001b[0mnp\u001b[0m\u001b[1;33m.\u001b[0m\u001b[0margmax\u001b[0m\u001b[1;33m(\u001b[0m\u001b[0mtemp_intensities\u001b[0m\u001b[1;33m)\u001b[0m\u001b[1;33m]\u001b[0m\u001b[1;33m,\u001b[0m \u001b[1;36m.1\u001b[0m\u001b[1;33m]\u001b[0m\u001b[1;33m\u001b[0m\u001b[1;33m\u001b[0m\u001b[0m\n\u001b[1;32m---> 17\u001b[1;33m     \u001b[0mparams\u001b[0m\u001b[1;33m,\u001b[0m \u001b[0mfit_covs\u001b[0m \u001b[1;33m=\u001b[0m \u001b[0mcurve_fit\u001b[0m\u001b[1;33m(\u001b[0m\u001b[0mfit_function\u001b[0m\u001b[1;33m,\u001b[0m \u001b[0mtemp_wavelengths\u001b[0m\u001b[1;33m,\u001b[0m \u001b[0mtemp_intensities\u001b[0m\u001b[1;33m,\u001b[0m \u001b[0mp0\u001b[0m\u001b[1;33m,\u001b[0m \u001b[0mmaxfev\u001b[0m \u001b[1;33m=\u001b[0m \u001b[1;36m5000\u001b[0m\u001b[1;33m)\u001b[0m\u001b[1;33m\u001b[0m\u001b[1;33m\u001b[0m\u001b[0m\n\u001b[0m\u001b[0;32m     18\u001b[0m     \u001b[0mfit_params\u001b[0m\u001b[1;33m.\u001b[0m\u001b[0mappend\u001b[0m\u001b[1;33m(\u001b[0m\u001b[0mparams\u001b[0m\u001b[1;33m)\u001b[0m\u001b[1;33m\u001b[0m\u001b[1;33m\u001b[0m\u001b[0m\n\u001b[0;32m     19\u001b[0m     \u001b[0mprint\u001b[0m\u001b[1;33m(\u001b[0m\u001b[0mparams\u001b[0m\u001b[1;33m)\u001b[0m\u001b[1;33m\u001b[0m\u001b[1;33m\u001b[0m\u001b[0m\n",
      "\u001b[1;32mc:\\users\\gerardo salazar\\appdata\\local\\programs\\python\\python37-32\\lib\\site-packages\\scipy\\optimize\\minpack.py\u001b[0m in \u001b[0;36mcurve_fit\u001b[1;34m(f, xdata, ydata, p0, sigma, absolute_sigma, check_finite, bounds, method, jac, **kwargs)\u001b[0m\n\u001b[0;32m    746\u001b[0m         \u001b[0mcost\u001b[0m \u001b[1;33m=\u001b[0m \u001b[0mnp\u001b[0m\u001b[1;33m.\u001b[0m\u001b[0msum\u001b[0m\u001b[1;33m(\u001b[0m\u001b[0minfodict\u001b[0m\u001b[1;33m[\u001b[0m\u001b[1;34m'fvec'\u001b[0m\u001b[1;33m]\u001b[0m \u001b[1;33m**\u001b[0m \u001b[1;36m2\u001b[0m\u001b[1;33m)\u001b[0m\u001b[1;33m\u001b[0m\u001b[1;33m\u001b[0m\u001b[0m\n\u001b[0;32m    747\u001b[0m         \u001b[1;32mif\u001b[0m \u001b[0mier\u001b[0m \u001b[1;32mnot\u001b[0m \u001b[1;32min\u001b[0m \u001b[1;33m[\u001b[0m\u001b[1;36m1\u001b[0m\u001b[1;33m,\u001b[0m \u001b[1;36m2\u001b[0m\u001b[1;33m,\u001b[0m \u001b[1;36m3\u001b[0m\u001b[1;33m,\u001b[0m \u001b[1;36m4\u001b[0m\u001b[1;33m]\u001b[0m\u001b[1;33m:\u001b[0m\u001b[1;33m\u001b[0m\u001b[1;33m\u001b[0m\u001b[0m\n\u001b[1;32m--> 748\u001b[1;33m             \u001b[1;32mraise\u001b[0m \u001b[0mRuntimeError\u001b[0m\u001b[1;33m(\u001b[0m\u001b[1;34m\"Optimal parameters not found: \"\u001b[0m \u001b[1;33m+\u001b[0m \u001b[0merrmsg\u001b[0m\u001b[1;33m)\u001b[0m\u001b[1;33m\u001b[0m\u001b[1;33m\u001b[0m\u001b[0m\n\u001b[0m\u001b[0;32m    749\u001b[0m     \u001b[1;32melse\u001b[0m\u001b[1;33m:\u001b[0m\u001b[1;33m\u001b[0m\u001b[1;33m\u001b[0m\u001b[0m\n\u001b[0;32m    750\u001b[0m         \u001b[1;31m# Rename maxfev (leastsq) to max_nfev (least_squares), if specified.\u001b[0m\u001b[1;33m\u001b[0m\u001b[1;33m\u001b[0m\u001b[1;33m\u001b[0m\u001b[0m\n",
      "\u001b[1;31mRuntimeError\u001b[0m: Optimal parameters not found: Number of calls to function has reached maxfev = 5000."
     ]
    }
   ],
   "source": [
    "#Defining gaussian function to be fit to\n",
    "def f(x,a,m,sd):\n",
    "    gaussian = a*np.exp(-np.power(x - m, 2.) / (2 * np.power(sd, 2.)))\n",
    "    return gaussian\n",
    "\n",
    "#Vectorizing function definition for curve fit\n",
    "fit_function = np.vectorize(f)   \n",
    "\n",
    "#Performing curve fitting over each peak and storing optimal parameters in fit_params\n",
    "fit_params = []\n",
    "for i in range(len(intensity_intervals)):\n",
    "    #Picking the x and y values for each peak from our list of peaks\n",
    "    temp_wavelengths = wavelength_intervals[i]\n",
    "    temp_intensities = intensity_intervals[i]\n",
    "    #Defining reasonable initial parameter guesses\n",
    "    p0 = [np.max(temp_intensities), temp_wavelengths[np.argmax(temp_intensities)], .1]\n",
    "    params, fit_covs = curve_fit(fit_function, temp_wavelengths, temp_intensities, p0, maxfev = 5000)\n",
    "    fit_params.append(params)\n",
    "    print(params)"
   ]
  },
  {
   "cell_type": "markdown",
   "metadata": {},
   "source": [
    "I've been unable to fix this runtime error. The fit seems to converge to reasonable values so I will use it for now. This may have something to do with the way the gaussian is defined."
   ]
  },
  {
   "cell_type": "markdown",
   "metadata": {},
   "source": [
    "Now that we've fit gaussians to each peak in the neon spectrum we can extract the mean of each peak which correspond to our observed wavelengths and compare them to the theoretical wavelengths to obtain a calibration curve"
   ]
  },
  {
   "cell_type": "code",
   "execution_count": 7,
   "metadata": {},
   "outputs": [
    {
     "name": "stdout",
     "output_type": "stream",
     "text": [
      "[632.8028265389839, 637.6718366874209, 639.6005701011945, 650.0301781687637, 652.6618497078647, 659.2653540307347]\n"
     ]
    }
   ],
   "source": [
    "#Collecting peak wavelengths from Neon fits into a list\n",
    "obs_peaks = []\n",
    "for i in range(len(fit_params)):\n",
    "    temp_list = fit_params[i]\n",
    "    obs_peaks.append(temp_list[1])\n",
    "    \n",
    "print(obs_peaks)"
   ]
  },
  {
   "cell_type": "code",
   "execution_count": 8,
   "metadata": {},
   "outputs": [
    {
     "data": {
      "image/png": "[encoded data removed]",
      "text/plain": [
       "<Figure size 432x288 with 1 Axes>"
      ]
     },
     "metadata": {
      "needs_background": "light"
     },
     "output_type": "display_data"
    }
   ],
   "source": [
    "#Generating scatter plots\n",
    "scatter_plots = []\n",
    "for i in range(len(intensity_intervals)):\n",
    "    #Accessing individual interval data and plotting it\n",
    "    temp_wavelengths = wavelength_intervals[i]\n",
    "    temp_intensities = intensity_intervals[i]\n",
    "    scatter_plots.append(plt.scatter(temp_wavelengths, temp_intensities))\n",
    "\n",
    "#Generating fit plots\n",
    "fit_plots = []\n",
    "for j in range(len(fit_params)):\n",
    "    #Accessing fit parameters for each interval\n",
    "    temp_params = fit_params[j]\n",
    "    a = temp_params[0]\n",
    "    m = temp_params[1]\n",
    "    sd = temp_params[2]\n",
    "    #Creating x data based on x data of interval\n",
    "    temp_wavelengths = wavelength_intervals[j]\n",
    "    x = np.linspace(np.amin(temp_wavelengths), np.amax(temp_wavelengths))\n",
    "    #Creating y data iteratively (as opposed to vectorized approach)\n",
    "    y = []\n",
    "    \n",
    "    for k in range(len(x)):\n",
    "        y.append(f(x[k],a,m,sd))\n",
    "    fit_plots.append(plt.plot(x,y))"
   ]
  },
  {
   "cell_type": "markdown",
   "metadata": {},
   "source": [
    "Now that we have performed the fits on the neon spectrum and extracted the mean values we can use these to perform a calibration fit with the accepted values. Upon inspection of the last two peaks, they seem to be almost indistinguishable from the intensity noise background so we will omit them from our calibration."
   ]
  },
  {
   "cell_type": "code",
   "execution_count": 9,
   "metadata": {},
   "outputs": [],
   "source": [
    "#Defining list of accepted peak values corresponding to observed peak values\n",
    "acc_peaks = [632.816, 638.299, 640.225, 650.653, 653.288, 659.895]"
   ]
  },
  {
   "cell_type": "code",
   "execution_count": 10,
   "metadata": {},
   "outputs": [
    {
     "name": "stdout",
     "output_type": "stream",
     "text": [
      "slope =  1.0148895489956915  intercept =  -9.084905762069905\n",
      "covariances =  [[ 9.55237787e-05 -6.16451930e-02]\n",
      " [-6.16451930e-02  3.97902839e+01]]\n"
     ]
    }
   ],
   "source": [
    "#Defining line to fit to\n",
    "def line(x,m,b):\n",
    "    y = m*x+b\n",
    "    return y\n",
    "#Vectorizing function\n",
    "line_to_fit = np.vectorize(line)\n",
    "#Initial guesses\n",
    "p0 = (1,0)\n",
    "#Curve fit\n",
    "calib_params, calib_covs = curve_fit(line_to_fit, obs_peaks, acc_peaks, p0)\n",
    "print(\"slope = \", calib_params[0], \" intercept = \", calib_params[1] )\n",
    "print(\"covariances = \", calib_covs)"
   ]
  },
  {
   "cell_type": "markdown",
   "metadata": {},
   "source": [
    "Scipy.optimize.curve_fit returns a covariance matrix ofr assesing the quality of the fits. In roder to extract the standard error for each paramter we take the square root of the diagonals (which gives the standard deviation) and then we divide each by the number of samples to obtain the standard error."
   ]
  },
  {
   "cell_type": "code",
   "execution_count": 11,
   "metadata": {},
   "outputs": [
    {
     "name": "stdout",
     "output_type": "stream",
     "text": [
      "standard errors for slope and intercept:  [0.0016289377820490065, 1.0513256694354667]\n"
     ]
    }
   ],
   "source": [
    "#Obtaining standard error for the calibration fit\n",
    "std_deviations = []\n",
    "for i in range(len(calib_covs)):\n",
    "    temp_array = calib_covs[i]\n",
    "    std_deviations.append(math.sqrt(temp_array[i]))\n",
    "\n",
    "std_errors = []\n",
    "for i in range(len(std_deviations)):\n",
    "    std_errors.append(std_deviations[i]/len(obs_peaks))\n",
    "    \n",
    "print(\"standard errors for slope and intercept: \", std_errors)"
   ]
  },
  {
   "cell_type": "code",
   "execution_count": 19,
   "metadata": {},
   "outputs": [
    {
     "name": "stdout",
     "output_type": "stream",
     "text": [
      "Observed peaks:  [632.8028265389839, 637.6718366874209, 639.6005701011945, 650.0301781687637, 652.6618497078647, 659.2653540307347]\n",
      "Accepted peaks:  [632.816, 638.299, 640.225, 650.653, 653.288, 659.895]\n"
     ]
    },
    {
     "data": {
      "image/png": "[encoded data removed]",
      "text/plain": [
       "<Figure size 432x288 with 1 Axes>"
      ]
     },
     "metadata": {
      "needs_background": "light"
     },
     "output_type": "display_data"
    }
   ],
   "source": [
    "#Plotting calibration curve\n",
    "#Cutting out overly noisy peaks\n",
    "obs_peaks = obs_peaks[:6]\n",
    "print(\"Observed peaks: \", obs_peaks)\n",
    "print(\"Accepted peaks: \", acc_peaks)\n",
    "plt.scatter(obs_peaks, acc_peaks)\n",
    "\n",
    "x = np.linspace(np.amin(obs_peaks)-10, np.amax(obs_peaks)+10)\n",
    "y = []\n",
    "for i in range(len(x)):\n",
    "    y.append(line(x[i], calib_params[0], calib_params[1]))\n",
    "plt.plot(x,y)\n",
    "plt.xlabel(\"Observed wavelengths (nm)\", fontweight=\"bold\")\n",
    "plt.ylabel(\"Accepted wavelengths (nm)\", fontweight=\"bold\")\n",
    "plt.grid()"
   ]
  },
  {
   "cell_type": "markdown",
   "metadata": {},
   "source": [
    "Now that we have the calibration curve we can use it to transform the data for the Hydrogen-Deuterium spectrum for a final analysis"
   ]
  },
  {
   "cell_type": "code",
   "execution_count": 13,
   "metadata": {},
   "outputs": [
    {
     "name": "stdout",
     "output_type": "stream",
     "text": [
      "(rows,columns) = (3648, 2)\n"
     ]
    },
    {
     "data": {
      "image/png": "[encoded data removed]",
      "text/plain": [
       "<Figure size 432x288 with 1 Axes>"
      ]
     },
     "metadata": {
      "needs_background": "light"
     },
     "output_type": "display_data"
    }
   ],
   "source": [
    "#Loading and plotting the Hydrogen-Deuterium data\n",
    "hd = np.loadtxt(\"data/Hydrogen-Deuterium.txt\")\n",
    "print(\"(rows,columns) =\",np.shape(hd))\n",
    "neon_plot = plt.plot(hd[:,0], hd[:,1], \"-b\")\n",
    "plt.xlabel(\"Wavelength (nm)\",fontweight=\"bold\")\n",
    "plt.ylabel(\"Intensity\", fontweight=\"bold\")\n",
    "plt.grid()\n",
    "plt.show()"
   ]
  },
  {
   "cell_type": "code",
   "execution_count": 14,
   "metadata": {},
   "outputs": [],
   "source": [
    "#Transforming the data according to the calibration curve\n",
    "hd_intensities = hd[:,1]\n",
    "hd_wavelengths = hd[:,0]\n",
    "calibrated_data = line_to_fit(hd_wavelengths, calib_params[0], calib_params[1])"
   ]
  },
  {
   "cell_type": "code",
   "execution_count": 15,
   "metadata": {},
   "outputs": [
    {
     "name": "stdout",
     "output_type": "stream",
     "text": [
      "[ 1.13944920e+04  7.41286403e+03  6.56324365e+02  6.56145602e+02\n",
      "  3.49967831e-02 -3.18831302e-02]\n"
     ]
    }
   ],
   "source": [
    "#Performing double gaussian fit to calibrated data\n",
    "def double_gaussian(x, a1, a2, m1, m2, sd1, sd2):\n",
    "    double_gauss = a1*np.exp(-np.power(x - m1, 2.) / (2 * np.power(sd1, 2.)))+a2*np.exp(-np.power(x - m2, 2.) / (2 * np.power(sd2, 2.)))\n",
    "    return double_gauss\n",
    "\n",
    "#Vectorizing function\n",
    "double_gauss_to_fit = np.vectorize(double_gaussian)\n",
    "#Initial guesses\n",
    "p0 = (5000,5000,655, 656, .1,.1)\n",
    "#Curve fit\n",
    "hd_params, hd_covs = curve_fit(double_gauss_to_fit, calibrated_data, hd_intensities, p0)\n",
    "print(hd_params)"
   ]
  },
  {
   "cell_type": "code",
   "execution_count": 16,
   "metadata": {},
   "outputs": [
    {
     "name": "stdout",
     "output_type": "stream",
     "text": [
      "[48.3866198395409, 48.50251462743127, 0.00016990245071777987, 0.00025207662300022325, 0.00016588199146856726, 0.0002516541202912401]\n"
     ]
    }
   ],
   "source": [
    "#Calculating the standard error in the parameters from the covariance\n",
    "hd_std_errors = []\n",
    "for i in range(len(hd_covs)):\n",
    "    temp_list = hd_covs[i]\n",
    "    hd_std_errors.append(math.sqrt(temp_list[i]))\n",
    "print(hd_std_errors)"
   ]
  },
  {
   "cell_type": "code",
   "execution_count": 17,
   "metadata": {},
   "outputs": [
    {
     "data": {
      "text/plain": [
       "Text(0, 0.5, 'Intensity')"
      ]
     },
     "execution_count": 17,
     "metadata": {},
     "output_type": "execute_result"
    },
    {
     "data": {
      "image/png": "[encoded data removed]",
      "text/plain": [
       "<Figure size 432x288 with 1 Axes>"
      ]
     },
     "metadata": {
      "needs_background": "light"
     },
     "output_type": "display_data"
    }
   ],
   "source": [
    "#Plotting the fit curve\n",
    "x = np.linspace(655,657, num=2000)\n",
    "y=[]\n",
    "for i in range(len(x)):\n",
    "    y.append(double_gaussian(x[i], hd_params[0], hd_params[1], hd_params[2], hd_params[3], hd_params[4], hd_params[5]))\n",
    "\n",
    "plt.plot(x,y)\n",
    "plt.grid()\n",
    "plt.xlabel(\"Wavelength (nm)\", fontweight=\"bold\")\n",
    "plt.ylabel(\"Intensity\", fontweight=\"bold\")"
   ]
  },
  {
   "cell_type": "code",
   "execution_count": 18,
   "metadata": {},
   "outputs": [
    {
     "name": "stdout",
     "output_type": "stream",
     "text": [
      "656.3243654122056 656.145602449952\n"
     ]
    }
   ],
   "source": [
    "#Calculating difference by hand avoids loss of significance \n",
    "mean_1 = hd_params[2]\n",
    "mean_2 = hd_params[3]\n",
    "print(mean_1, mean_2)"
   ]
  }
 ],
 "metadata": {
  "kernelspec": {
   "display_name": "Python 3",
   "language": "python",
   "name": "python3"
  },
  "language_info": {
   "codemirror_mode": {
    "name": "ipython",
    "version": 3
   },
   "file_extension": ".py",
   "mimetype": "text/x-python",
   "name": "python",
   "nbconvert_exporter": "python",
   "pygments_lexer": "ipython3",
   "version": "3.7.2"
  }
 },
 "nbformat": 4,
 "nbformat_minor": 2
}
